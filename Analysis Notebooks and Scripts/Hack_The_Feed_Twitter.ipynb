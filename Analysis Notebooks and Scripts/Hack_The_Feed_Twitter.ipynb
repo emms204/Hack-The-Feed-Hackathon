{
  "nbformat": 4,
  "nbformat_minor": 0,
  "metadata": {
    "colab": {
      "provenance": []
    },
    "kernelspec": {
      "name": "python3",
      "display_name": "Python 3"
    },
    "language_info": {
      "name": "python"
    }
  },
  "cells": [
    {
      "cell_type": "markdown",
      "source": [
        "# Hack The Feed: Insights From Social Media Data\n",
        "\n",
        "### 🎯 Project Brief\n",
        "\n",
        "Playhouse Communication is one of Nigeria's leading digital marketing agencies. They combine design and media planning with cutting-edge tech solutions to reimagine what marketing is all about. Their client roster is a mix of global juggernauts and nimble SMEs, each redefining their sectors.\n",
        "\n",
        "We are rolling out the ultimate arena for innovation in data and setting the stage for up and coming data scientists and analysts to showcase their skills, win huge cash prizes, and boost their careers. The \"Hack the Feed\" hackathon is a showdown where data analytics meets creative prowess.\n",
        "\n",
        "Your mission? To decode a treasure trove of social media data for one of our high-profile clients and transform it into game-changing insights.\n",
        "\n",
        "In a rare move, we're handing you the keys to a vault of exclusive social media data to let you dig deep, get creative, and strike gold with actionable insights that could redefine the future of digital marketing.  This isn't just a hackathon; it's your chance to shape the future of digital engagement. 🚀\n",
        "\n",
        "Key Deliverables:\n",
        "Participants are expected to:\n",
        "\n",
        "    Create a comprehensive and reproducible report detailing their findings.\n",
        "    Propose actionable recommendations based on the insights.\n",
        "    Create a simple and engaging visualisation of your results & analysis.\n",
        "\n",
        "\n",
        "Evaluation Criteria:\n",
        "Submissions will be evaluated based on the following:\n",
        "\n",
        "    Innovativeness:\n",
        "        Originality and novelty of the insights.\n",
        "    Actionability:\n",
        "        Practicality and feasibility of the recommendations.\n",
        "    Presentation Quality:\n",
        "        Clarity and effectiveness in conveying findings in writing and visual form.\n",
        "    Depth of Analysis:\n",
        "        How thoroughly the data has been explored and understood."
      ],
      "metadata": {
        "id": "qDM9Pq_crKT7"
      }
    },
    {
      "cell_type": "code",
      "execution_count": null,
      "metadata": {
        "id": "m6A_T7t0rDPt"
      },
      "outputs": [],
      "source": [
        "import os\n",
        "import gc\n",
        "import shutil\n",
        "import copy\n",
        "\n",
        "import pandas as pd\n",
        "import numpy as np\n",
        "import matplotlib.pyplot as plt\n",
        "import seaborn as sns\n",
        "import plotly.express as px\n",
        "import random\n",
        "from collections import defaultdict\n",
        "from typing import Union, List, Literal, Dict, Callable, Tuple, Optional\n",
        "from tqdm import tqdm\n",
        "\n",
        "from sklearn.model_selection import train_test_split, StratifiedShuffleSplit, StratifiedKFold, KFold"
      ]
    },
    {
      "cell_type": "code",
      "source": [
        "import nltk\n",
        "from IPython.display import display\n",
        "from nltk.tokenize import sent_tokenize\n",
        "from nltk.corpus import words\n",
        "from nltk.corpus import stopwords\n",
        "from nltk.tokenize import word_tokenize\n",
        "from nltk.stem import WordNetLemmatizer\n",
        "from nltk.stem import PorterStemmer\n",
        "from nltk.sentiment.vader import SentimentIntensityAnalyzer\n",
        "from nltk.sentiment.util import *\n",
        "from collections import Counter\n",
        "nltk.download('stopwords')\n",
        "nltk.download('vader_lexicon')\n",
        "\n",
        "import string\n",
        "import re"
      ],
      "metadata": {
        "id": "6hH0fN1jT6hh"
      },
      "execution_count": null,
      "outputs": []
    },
    {
      "cell_type": "code",
      "source": [
        "data_dir = '/content/drive/MyDrive/Hack The Feed Hackathon'\n",
        "os.chdir(data_dir)"
      ],
      "metadata": {
        "id": "FzHHQQ-zrTtW"
      },
      "execution_count": null,
      "outputs": []
    },
    {
      "cell_type": "code",
      "source": [
        "fb_data = pd.read_csv('Post Performance (Stanbic IBTC) January 1, 2013 - July 13, 2023_Facebook.csv', low_memory=False)\n",
        "x_data = pd.read_csv('Post Performance (Stanbic IBTC) January 1, 2013 - July 13, 2023_Twitter.csv', low_memory=False)\n",
        "ig_data = pd.read_csv('Post Performance (Stanbic IBTC) January 1, 2013 - July 13, 2023_Instagram.csv', low_memory=False)\n",
        "ld_data = pd.read_csv('Post Performance (Stanbic IBTC) January 1, 2013 - July 13, 2023_LinkedIn.csv', low_memory=False)"
      ],
      "metadata": {
        "id": "hyXPVrF0rXmX"
      },
      "execution_count": null,
      "outputs": []
    },
    {
      "cell_type": "markdown",
      "source": [
        "## Twitter Data"
      ],
      "metadata": {
        "id": "FV3TL4V9rd1F"
      }
    },
    {
      "cell_type": "code",
      "source": [
        "x_data.info()"
      ],
      "metadata": {
        "id": "eqRja0GDrZuR"
      },
      "execution_count": null,
      "outputs": []
    },
    {
      "cell_type": "code",
      "source": [
        "x_cols = x_data.columns\n",
        "\n",
        "cols_missing = x_data[x_cols].isnull().sum().to_dict()\n",
        "for col in cols_missing:\n",
        "  if cols_missing[col] > 0.5 * x_data.shape[0]:\n",
        "    x_cols=x_cols.drop(col)"
      ],
      "metadata": {
        "id": "r3UPZzxAri3I"
      },
      "execution_count": null,
      "outputs": []
    },
    {
      "cell_type": "code",
      "source": [
        "cleaned_data = x_data[x_cols]"
      ],
      "metadata": {
        "id": "rOb1gBn-r87Y"
      },
      "execution_count": null,
      "outputs": []
    },
    {
      "cell_type": "code",
      "source": [
        "low_cardinality_columns = []\n",
        "high_cardinality_columns = []\n",
        "medium_cardinality_columns = []\n",
        "cat_cols = cleaned_data.select_dtypes(include=['object']).columns\n",
        "\n",
        "for col in cat_cols:\n",
        "  num_uniq = cleaned_data[col].nunique()\n",
        "  if num_uniq < 5:\n",
        "    low_cardinality_columns.append(col)\n",
        "  elif num_uniq > 20:\n",
        "    high_cardinality_columns.append(col)\n",
        "  else:\n",
        "    medium_cardinality_columns.append(col)"
      ],
      "metadata": {
        "id": "2XWdDxtxr9sI"
      },
      "execution_count": null,
      "outputs": []
    },
    {
      "cell_type": "code",
      "source": [
        "cleaned_data[low_cardinality_columns].head(3)"
      ],
      "metadata": {
        "id": "1kmMwA8PsKf-"
      },
      "execution_count": null,
      "outputs": []
    },
    {
      "cell_type": "markdown",
      "source": [
        " ### HIGH CARDINALITY COLUMNS"
      ],
      "metadata": {
        "id": "kRTuIOPWtAOW"
      }
    },
    {
      "cell_type": "code",
      "source": [
        "cleaned_data[high_cardinality_columns[:5]].head(5)"
      ],
      "metadata": {
        "id": "P6xrRR8HsfXO"
      },
      "execution_count": null,
      "outputs": []
    },
    {
      "cell_type": "code",
      "source": [
        "impression_reach_cols = high_cardinality_columns[4:7]\n",
        "cleaned_data[impression_reach_cols].head(5)"
      ],
      "metadata": {
        "id": "Nszxovxh0LmE"
      },
      "execution_count": null,
      "outputs": []
    },
    {
      "cell_type": "code",
      "source": [
        "cleaned_data[impression_reach_cols].isnull().sum()"
      ],
      "metadata": {
        "id": "ja0RgJgCs4fz"
      },
      "execution_count": null,
      "outputs": []
    },
    {
      "cell_type": "code",
      "source": [
        "cleaned_impressions_reach = cleaned_data\n",
        "\n",
        "for col in cleaned_impressions_reach[impression_reach_cols].columns:\n",
        "  cleaned_impressions_reach = cleaned_impressions_reach[cleaned_impressions_reach[col].notna()].reset_index(drop=True)"
      ],
      "metadata": {
        "id": "si6YsrFttQRr"
      },
      "execution_count": null,
      "outputs": []
    },
    {
      "cell_type": "code",
      "source": [
        "cleaned_impressions_reach[impression_reach_cols] = cleaned_impressions_reach[impression_reach_cols].apply(\n",
        "    lambda row:row.str.replace(',','').astype(\"int\"), axis=1)"
      ],
      "metadata": {
        "id": "4K6Zto1pt86H"
      },
      "execution_count": null,
      "outputs": []
    },
    {
      "cell_type": "code",
      "source": [
        "def get_time_period(hour):\n",
        "    if 6 <= hour < 12:\n",
        "        return 'Morning'\n",
        "    elif 12 <= hour < 17:\n",
        "        return 'Afternoon'\n",
        "    elif 17 <= hour < 21:\n",
        "        return 'Evening'\n",
        "    else:\n",
        "        return 'Night'\n",
        "\n",
        "def get_quarter(month):\n",
        "    if 1 <= month <= 3:\n",
        "        return 'Q1'\n",
        "    elif 4 <= month <= 6:\n",
        "        return 'Q2'\n",
        "    elif 7 <= month <= 9:\n",
        "        return 'Q3'\n",
        "    else:\n",
        "        return 'Q4'\n",
        "\n",
        "def get_season(month):\n",
        "    if 3 <= month <= 5:\n",
        "        return 'Spring'\n",
        "    elif 6 <= month <= 8:\n",
        "        return 'Summer'\n",
        "    elif 9 <= month <= 11:\n",
        "        return 'Autumn'\n",
        "    else:\n",
        "        return 'Winter'\n",
        "\n",
        "def get_day_period(day_of_week):\n",
        "    if 0 <= day_of_week <= 4:  # Monday to Friday\n",
        "        return 'Weekday'\n",
        "    else:  # Saturday and Sunday\n",
        "        return 'Weekend'"
      ],
      "metadata": {
        "id": "uJlFio23uBQP"
      },
      "execution_count": null,
      "outputs": []
    },
    {
      "cell_type": "code",
      "source": [
        "holidays = pd.read_excel('NigerianHolidays.xlsx')\n",
        "holidays['month-day'] = pd.to_datetime(holidays.Date).dt.strftime('%m-%d')"
      ],
      "metadata": {
        "id": "aG9tGZGRuQlN"
      },
      "execution_count": null,
      "outputs": []
    },
    {
      "cell_type": "code",
      "source": [
        "holidays = holidays.set_index('month-day')\n",
        "holiday_names = holidays['Name'].to_dict()\n",
        "holiday_types = holidays['Type'].to_dict()"
      ],
      "metadata": {
        "id": "aRQFlHgkuU5-"
      },
      "execution_count": null,
      "outputs": []
    },
    {
      "cell_type": "code",
      "source": [
        "cleaned_impressions_reach['year'] = pd.to_datetime(cleaned_impressions_reach.Date).dt.year\n",
        "cleaned_impressions_reach['month_name'] = pd.to_datetime(cleaned_impressions_reach.Date).dt.month_name()\n",
        "cleaned_impressions_reach['month'] = pd.to_datetime(cleaned_impressions_reach.Date).dt.month\n",
        "cleaned_impressions_reach['day_name'] = pd.to_datetime(cleaned_impressions_reach.Date).dt.day_name()\n",
        "cleaned_impressions_reach['day'] = pd.to_datetime(cleaned_impressions_reach.Date).dt.day\n",
        "cleaned_impressions_reach['hour'] = pd.to_datetime(cleaned_impressions_reach.Date).dt.hour\n",
        "cleaned_impressions_reach['minute'] = pd.to_datetime(cleaned_impressions_reach.Date).dt.minute\n",
        "cleaned_impressions_reach['day_of_week'] = pd.to_datetime(cleaned_impressions_reach.Date).dt.dayofweek\n",
        "cleaned_impressions_reach['month-day'] = pd.to_datetime(cleaned_impressions_reach.Date).dt.strftime('%m-%d')"
      ],
      "metadata": {
        "id": "fYSNMD2YuWn1"
      },
      "execution_count": null,
      "outputs": []
    },
    {
      "cell_type": "code",
      "source": [
        "cleaned_impressions_reach['time_period'] = cleaned_impressions_reach['hour'].apply(get_time_period)\n",
        "cleaned_impressions_reach['quarter'] = cleaned_impressions_reach['month'].apply(get_quarter)\n",
        "cleaned_impressions_reach['season'] = cleaned_impressions_reach['month'].apply(get_season)\n",
        "cleaned_impressions_reach['day_period'] = cleaned_impressions_reach['day_of_week'].apply(get_day_period)\n",
        "cleaned_impressions_reach['holiday_names'] = cleaned_impressions_reach['month-day'].map(holiday_names).fillna(\"Regular Day\")\n",
        "cleaned_impressions_reach['holiday_types'] = cleaned_impressions_reach['month-day'].map(holiday_types).fillna(\"Regular Type\")"
      ],
      "metadata": {
        "id": "psELyqR6uZL3"
      },
      "execution_count": null,
      "outputs": []
    },
    {
      "cell_type": "code",
      "source": [
        "order = ['Monday', 'Tuesday', 'Wednesday', 'Thursday', 'Friday','Saturday', 'Sunday']\n",
        "cleaned_impressions_reach['day_name'] = pd.Categorical(cleaned_impressions_reach['day_name'], categories=order, ordered=True)\n",
        "\n",
        "\n",
        "\n",
        "order = ['Morning', 'Afternoon', 'Evening', 'Night']\n",
        "cleaned_impressions_reach['time_period'] = pd.Categorical(cleaned_impressions_reach['time_period'], categories=order, ordered=True)"
      ],
      "metadata": {
        "id": "20-bG7ovueiD"
      },
      "execution_count": null,
      "outputs": []
    },
    {
      "cell_type": "code",
      "source": [
        "plt.style.use('seaborn-v0_8-darkgrid')\n",
        "\n",
        "fig, axs = plt.subplots(nrows=2, ncols=3, figsize=(20,15))\n",
        "axs = axs.ravel()\n",
        "\n",
        "plot_cols = ['year','time_period','day_name','day_period','quarter','holiday_types']\n",
        "\n",
        "for i, col in enumerate(plot_cols):\n",
        "  df = cleaned_impressions_reach[cleaned_impressions_reach[col]!='Regular Type']\n",
        "  df_yearly = df.groupby(col)[['Post']].count()  # Sum column values for each year\n",
        "  axs[i].plot(df_yearly.index, df_yearly.values, marker='o')\n",
        "\n",
        "  axs[i].set_xlabel(col)\n",
        "  axs[i].set_ylabel('Count')\n",
        "  axs[i].set_title(f'Trend of Posts Across {col}')\n",
        "\n",
        "plt.show()"
      ],
      "metadata": {
        "id": "icHc0cBNuhfO"
      },
      "execution_count": null,
      "outputs": []
    },
    {
      "cell_type": "code",
      "source": [
        "cleaned_impressions_reach[impression_reach_cols].describe().T"
      ],
      "metadata": {
        "id": "VXJjM8cgunBS"
      },
      "execution_count": null,
      "outputs": []
    },
    {
      "cell_type": "code",
      "source": [
        "from sklearn.preprocessing import StandardScaler, MinMaxScaler\n",
        "ss = StandardScaler()\n",
        "mm = MinMaxScaler()"
      ],
      "metadata": {
        "id": "X57lPthCQqr8"
      },
      "execution_count": null,
      "outputs": []
    },
    {
      "cell_type": "code",
      "source": [
        "def plot_bars(df, plot_cols, cols, scale=True, barWidth=0.25, length=20, width=15):\n",
        "  top_df = df.copy()\n",
        "  if scale:\n",
        "    top_df.loc[:, cols] = mm.fit_transform(df[cols])\n",
        "\n",
        "  fig, axs = plt.subplots(nrows=2, ncols=3, figsize=(length, width))\n",
        "  axs = axs.ravel()\n",
        "  colors = ['red','green','blue','yellow','skyblue', 'olive', 'gold', 'purple', 'orange', 'brown']\n",
        "\n",
        "  for i, column in enumerate(plot_cols):\n",
        "    df = top_df.groupby([column])[cols].sum()\n",
        "    barWidth = barWidth\n",
        "    r = [np.arange(len(df)) + i*barWidth for i in range(len(cols))]\n",
        "    for j, col in enumerate(cols):\n",
        "        axs[i].bar(r[j], df[col], color=colors[j], width=barWidth, edgecolor='grey', label=col)\n",
        "\n",
        "    axs[i].set_xlabel(column, fontweight='bold')\n",
        "    axs[i].set_xticks([r + barWidth for r in range(len(df))], df.index)\n",
        "    axs[i].legend()\n",
        "\n",
        "  plt.show()\n",
        "\n"
      ],
      "metadata": {
        "id": "l-nDx395yHlb"
      },
      "execution_count": null,
      "outputs": []
    },
    {
      "cell_type": "code",
      "source": [
        "def plot_bars_quantile(df, plot_cols, cols, quantile=0.99, scale=True, barWidth=0.25, length=20, width=15):\n",
        "  last_quantile = df[cols[-1]].quantile(quantile)\n",
        "  top_df = df[df[cols[-1]] > last_quantile].copy()\n",
        "  if scale:\n",
        "    top_df.loc[:, cols] = mm.fit_transform(top_df[cols])\n",
        "\n",
        "  fig, axs = plt.subplots(nrows=2, ncols=3, figsize=(length, width))\n",
        "  axs = axs.ravel()\n",
        "  colors = ['red','green','blue','yellow','skyblue', 'olive', 'gold', 'purple', 'orange', 'brown']\n",
        "\n",
        "  for i, column in enumerate(plot_cols):\n",
        "    df = top_df.groupby([column])[cols].sum().sort_values(by=[cols[-1]], ascending=False)\n",
        "    barWidth = barWidth\n",
        "    r = [np.arange(len(df)) + i*barWidth for i in range(len(cols))]\n",
        "    for j, col in enumerate(cols):\n",
        "        axs[i].bar(r[j], df[col], color=colors[j], width=barWidth, edgecolor='grey', label=col)\n",
        "\n",
        "    axs[i].set_xlabel(column, fontweight='bold')\n",
        "    axs[i].set_xticks([r + barWidth for r in range(len(df))], df.index)\n",
        "    axs[i].legend()\n",
        "\n",
        "  plt.show()\n",
        "\n"
      ],
      "metadata": {
        "id": "upbAT0HHDNW8"
      },
      "execution_count": null,
      "outputs": []
    },
    {
      "cell_type": "code",
      "source": [
        "# Call the function\n",
        "plot_cols = ['year','time_period','day_name','day_period','quarter','holiday_types']\n",
        "plot_bars_quantile(cleaned_impressions_reach, plot_cols, impression_reach_cols, quantile=0.99)"
      ],
      "metadata": {
        "id": "uyb_Eyq9HWqE"
      },
      "execution_count": null,
      "outputs": []
    },
    {
      "cell_type": "code",
      "source": [
        "engage_rls_cols = high_cardinality_columns[8:12]\n",
        "cleaned_impressions_reach[engage_rls_cols] = cleaned_impressions_reach[engage_rls_cols].apply(\n",
        "    lambda row:row.str.replace(',','').astype(\"int\"), axis=1)"
      ],
      "metadata": {
        "id": "kzc6EhjuNg1q"
      },
      "execution_count": null,
      "outputs": []
    },
    {
      "cell_type": "code",
      "source": [
        "cleaned_impressions_reach[engage_rls_cols].head(5)"
      ],
      "metadata": {
        "id": "sutHiOIeP0Ja"
      },
      "execution_count": null,
      "outputs": []
    },
    {
      "cell_type": "code",
      "source": [
        "cleaned_impressions_reach['Engagement Rate (per Impression)'] = (cleaned_impressions_reach['Engagements'] / cleaned_impressions_reach['Impressions']) * 100"
      ],
      "metadata": {
        "id": "uSQmSoxuNJnO"
      },
      "execution_count": null,
      "outputs": []
    },
    {
      "cell_type": "code",
      "source": [
        "cleaned_impressions_reach[engage_rls_cols].describe().T"
      ],
      "metadata": {
        "id": "4LEN8K-vOPS2"
      },
      "execution_count": null,
      "outputs": []
    },
    {
      "cell_type": "code",
      "source": [
        "plot_bars_quantile(cleaned_impressions_reach, plot_cols, engage_rls_cols[::-1], quantile=0.99, scale=False, barWidth=0.15)"
      ],
      "metadata": {
        "id": "xfTGOgozOXHT"
      },
      "execution_count": null,
      "outputs": []
    },
    {
      "cell_type": "code",
      "source": [
        "click_cols = high_cardinality_columns[12:16]\n",
        "cleaned_impressions_reach[click_cols].head(5)"
      ],
      "metadata": {
        "id": "OL7VcV26O4fi"
      },
      "execution_count": null,
      "outputs": []
    },
    {
      "cell_type": "code",
      "source": [
        "cleaned_impressions_reach[click_cols] = cleaned_impressions_reach[click_cols].fillna(\"0\")\n",
        "cleaned_impressions_reach[click_cols] = cleaned_impressions_reach[click_cols].apply(\n",
        "    lambda row:row.str.replace(',','').astype(\"int\"), axis=1)"
      ],
      "metadata": {
        "id": "djvJnf7QgKGZ"
      },
      "execution_count": null,
      "outputs": []
    },
    {
      "cell_type": "code",
      "source": [
        "cleaned_impressions_reach[click_cols].describe().T"
      ],
      "metadata": {
        "id": "o45KHQBchNge"
      },
      "execution_count": null,
      "outputs": []
    },
    {
      "cell_type": "code",
      "source": [
        "click_cols = ['Post Detail Expand Clicks','Post Media Clicks', 'Other Post Clicks','Post Clicks (All)']"
      ],
      "metadata": {
        "id": "6NOaNA7AiLad"
      },
      "execution_count": null,
      "outputs": []
    },
    {
      "cell_type": "code",
      "source": [
        "plot_bars_quantile(cleaned_impressions_reach, plot_cols, click_cols, quantile=0.99, scale=False, barWidth=0.15)"
      ],
      "metadata": {
        "id": "R_bsxWsAhUB9"
      },
      "execution_count": null,
      "outputs": []
    },
    {
      "cell_type": "markdown",
      "source": [
        "#### WHOLE DATASET"
      ],
      "metadata": {
        "id": "or9vdO-Sx-4f"
      }
    },
    {
      "cell_type": "code",
      "source": [
        "plot_bars(cleaned_impressions_reach, plot_cols, impression_reach_cols)"
      ],
      "metadata": {
        "id": "2lJnYe9HirPk"
      },
      "execution_count": null,
      "outputs": []
    },
    {
      "cell_type": "code",
      "source": [
        "plot_bars(cleaned_impressions_reach, plot_cols, engage_rls_cols, scale=False, barWidth=0.15)"
      ],
      "metadata": {
        "id": "0rUsyX_lybVD"
      },
      "execution_count": null,
      "outputs": []
    },
    {
      "cell_type": "code",
      "source": [
        "plot_bars(cleaned_impressions_reach, plot_cols, click_cols, scale=False, barWidth=0.15)"
      ],
      "metadata": {
        "id": "7NiL2gWx4L5w"
      },
      "execution_count": null,
      "outputs": []
    },
    {
      "cell_type": "code",
      "source": [
        "def heatmap(df, length=10, width=5, cmap='rocket'):\n",
        "  heatmap_df = df.corr(numeric_only=True)\n",
        "  fig, ax = plt.subplots(figsize=(length, width))\n",
        "  sns.heatmap(data=heatmap_df, annot=True, cmap=cmap, ax=ax)\n",
        "  # ax.set_title(f'Heatmap of {\" and \".join(list(df.columns))}')\n",
        "  plt.show()\n"
      ],
      "metadata": {
        "id": "8aZ5WAFo48bs"
      },
      "execution_count": null,
      "outputs": []
    },
    {
      "cell_type": "code",
      "source": [
        "corr_matrix = cleaned_impressions_reach[high_cardinality_columns[4:16]]\n",
        "heatmap(corr_matrix, length=15, width=10)"
      ],
      "metadata": {
        "id": "HK5a9PVo4A4L"
      },
      "execution_count": null,
      "outputs": []
    },
    {
      "cell_type": "code",
      "source": [
        "def time_series_analysis(df, metrics, duration, fill=False, length=15, width=10):\n",
        "  df = df.copy()\n",
        "  df['Date'] = pd.to_datetime(df['Date'])\n",
        "  df.set_index('Date', inplace=True)\n",
        "\n",
        "  fig, ax = plt.subplots(figsize=(length,width),dpi=120)\n",
        "\n",
        "  for metric in metrics:\n",
        "    duration_mean = df[metric].resample(duration).mean()\n",
        "    duration_mean.plot(ax=ax, label=metric)\n",
        "    if fill:\n",
        "      ax.fill_between(duration_mean.index, y1=duration_mean.values, y2=-duration_mean.values, alpha=0.5, linewidth=2, color='seagreen')\n",
        "\n",
        "\n",
        "  ax.set_xlabel('Time')\n",
        "  ax.set_ylabel('Value')\n",
        "  ax.set_title('Trend Analysis')\n",
        "\n",
        "  ax.legend()\n",
        "  if fill:\n",
        "    ax.hlines(y=0, xmin=np.min(df.index), xmax=np.max(df.index), linewidth=.5)\n",
        "\n",
        "  plt.show()"
      ],
      "metadata": {
        "id": "KRPSLxhpp72U"
      },
      "execution_count": null,
      "outputs": []
    },
    {
      "cell_type": "code",
      "source": [
        "time_series_analysis(cleaned_impressions_reach,\n",
        "                     [\"Impressions\",\"Organic Impressions\"],\n",
        "                     duration='Y',length=8,width=5)"
      ],
      "metadata": {
        "id": "KM3AXSMorqQD"
      },
      "execution_count": null,
      "outputs": []
    },
    {
      "cell_type": "code",
      "source": [
        "time_series_analysis(cleaned_impressions_reach,\n",
        "                     [\"Potential Reach\"],\n",
        "                     duration='Y',length=8,width=5)"
      ],
      "metadata": {
        "id": "95QQ_T8msVlz"
      },
      "execution_count": null,
      "outputs": []
    },
    {
      "cell_type": "code",
      "source": [
        "time_series_analysis(cleaned_impressions_reach,\n",
        "                     engage_rls_cols,\n",
        "                     duration='Y',length=8,width=5)"
      ],
      "metadata": {
        "id": "Tl9Gz8tBtKiF"
      },
      "execution_count": null,
      "outputs": []
    },
    {
      "cell_type": "code",
      "source": [
        "time_series_analysis(cleaned_impressions_reach,\n",
        "                     click_cols,\n",
        "                     duration='Y',length=12,width=5)"
      ],
      "metadata": {
        "id": "BF6SHTiKvSLg"
      },
      "execution_count": null,
      "outputs": []
    },
    {
      "cell_type": "code",
      "source": [
        "time_series_analysis(cleaned_impressions_reach,\n",
        "                     [\"Impressions\",\"Organic Impressions\"],\n",
        "                     duration='M', fill=True,length=16,width=5)"
      ],
      "metadata": {
        "id": "HLmthzv-bla-"
      },
      "execution_count": null,
      "outputs": []
    },
    {
      "cell_type": "code",
      "source": [
        "time_series_analysis(cleaned_impressions_reach,\n",
        "                     [\"Potential Reach\"],\n",
        "                     duration='M', fill=True,length=16,width=5)"
      ],
      "metadata": {
        "id": "UaRl1a_6xvWp"
      },
      "execution_count": null,
      "outputs": []
    },
    {
      "cell_type": "code",
      "source": [
        "time_series_analysis(cleaned_impressions_reach,\n",
        "                     engage_rls_cols,\n",
        "                     duration='M', fill=True,length=16,width=5)"
      ],
      "metadata": {
        "id": "kqhnjKzpzFx3"
      },
      "execution_count": null,
      "outputs": []
    },
    {
      "cell_type": "code",
      "source": [
        "time_series_analysis(cleaned_impressions_reach,\n",
        "                     click_cols,\n",
        "                     duration='M', fill=True,length=16,width=5)"
      ],
      "metadata": {
        "id": "5ypxTXWc0iOc"
      },
      "execution_count": null,
      "outputs": []
    },
    {
      "cell_type": "code",
      "source": [
        "time_series_analysis(cleaned_impressions_reach,\n",
        "                     [\"Impressions\",\"Organic Impressions\"],\n",
        "                     duration='7D', fill=True,length=16,width=5)"
      ],
      "metadata": {
        "id": "68y0PwklSJJt"
      },
      "execution_count": null,
      "outputs": []
    },
    {
      "cell_type": "code",
      "source": [
        "time_series_analysis(cleaned_impressions_reach,\n",
        "                     [\"Potential Reach\"],\n",
        "                     duration='7D', fill=True,length=16,width=5)"
      ],
      "metadata": {
        "id": "d8PNyzYOnMRr"
      },
      "execution_count": null,
      "outputs": []
    },
    {
      "cell_type": "code",
      "source": [
        "time_series_analysis(cleaned_impressions_reach,\n",
        "                     engage_rls_cols,\n",
        "                     duration='7D', fill=True,length=16,width=5)"
      ],
      "metadata": {
        "id": "hINUMp733jDg"
      },
      "execution_count": null,
      "outputs": []
    },
    {
      "cell_type": "code",
      "source": [
        "time_series_analysis(cleaned_impressions_reach,\n",
        "                     click_cols,\n",
        "                     duration='7D', fill=True,length=16,width=5)"
      ],
      "metadata": {
        "id": "SbS-iheF3jOg"
      },
      "execution_count": null,
      "outputs": []
    },
    {
      "cell_type": "code",
      "source": [
        "medium_cardinality_columns"
      ],
      "metadata": {
        "id": "oOoKGdi86K_I"
      },
      "execution_count": null,
      "outputs": []
    },
    {
      "cell_type": "code",
      "source": [
        "cleaned_impressions_reach['Sent by'] = np.where(\n",
        "    cleaned_impressions_reach['Sent by']==' ', cleaned_impressions_reach['Sent by'].replace(\n",
        "        ' ','Unknown'), cleaned_impressions_reach['Sent by'])"
      ],
      "metadata": {
        "id": "WRztwEUi4Lrr"
      },
      "execution_count": null,
      "outputs": []
    },
    {
      "cell_type": "code",
      "source": [
        "df_grouped = cleaned_impressions_reach.groupby('Sent by')[['Post']].count().sort_values(by=['Post'],ascending=False)\n",
        "df_grouped"
      ],
      "metadata": {
        "id": "muSqi-Qs4YSU"
      },
      "execution_count": null,
      "outputs": []
    },
    {
      "cell_type": "code",
      "source": [
        "df_grouped = cleaned_impressions_reach.groupby('Sent by')[engage_rls_cols].sum().sort_values(by=['Engagements'],ascending=False)\n",
        "df_grouped"
      ],
      "metadata": {
        "id": "GynCcXMP4kp2"
      },
      "execution_count": null,
      "outputs": []
    },
    {
      "cell_type": "markdown",
      "source": [
        "### Numerical Columns"
      ],
      "metadata": {
        "id": "O-RS7FOY52H_"
      }
    },
    {
      "cell_type": "code",
      "source": [
        "num_cols = list(cleaned_data.select_dtypes(include=['float64']).columns)\n",
        "num_cols"
      ],
      "metadata": {
        "id": "if7KgyIv44h9"
      },
      "execution_count": null,
      "outputs": []
    },
    {
      "cell_type": "code",
      "source": [
        "cleaned_impressions_reach[num_cols].head(5)"
      ],
      "metadata": {
        "id": "pgRBd0s_5ROc"
      },
      "execution_count": null,
      "outputs": []
    },
    {
      "cell_type": "code",
      "source": [
        "corr_matrix = cleaned_impressions_reach[impression_reach_cols[:2]+engage_rls_cols[:3]+click_cols+num_cols[:4]+num_cols[6:]]\n",
        "heatmap(corr_matrix,length=25, width=20)"
      ],
      "metadata": {
        "id": "zGWQfWdA6hnh"
      },
      "execution_count": null,
      "outputs": []
    },
    {
      "cell_type": "code",
      "source": [
        "time_series_analysis(cleaned_impressions_reach,\n",
        "                     ['Comments'],\n",
        "                     duration='Y', fill=False,length=8,width=5)"
      ],
      "metadata": {
        "id": "Ctyc83875lnR"
      },
      "execution_count": null,
      "outputs": []
    },
    {
      "cell_type": "code",
      "source": [
        "time_series_analysis(cleaned_impressions_reach,\n",
        "                     ['Comments'],\n",
        "                     duration='M', fill=True,length=16,width=5)"
      ],
      "metadata": {
        "id": "aJJ5RCvG6JbG"
      },
      "execution_count": null,
      "outputs": []
    },
    {
      "cell_type": "code",
      "source": [
        "time_series_analysis(cleaned_impressions_reach,\n",
        "                     ['Comments'],\n",
        "                     duration='7D', fill=True,length=16,width=5)"
      ],
      "metadata": {
        "id": "oY9W5m3g6KFk"
      },
      "execution_count": null,
      "outputs": []
    },
    {
      "cell_type": "code",
      "source": [
        "time_series_analysis(cleaned_impressions_reach,\n",
        "                     num_cols[1:3],\n",
        "                     duration='Y', fill=False,length=8,width=5)"
      ],
      "metadata": {
        "id": "hb_O_E9z5YDg"
      },
      "execution_count": null,
      "outputs": []
    },
    {
      "cell_type": "code",
      "source": [
        "time_series_analysis(cleaned_impressions_reach,\n",
        "                     num_cols[1:3],\n",
        "                     duration='M', fill=True,length=16,width=5)"
      ],
      "metadata": {
        "id": "MdJl_t_kJs5X"
      },
      "execution_count": null,
      "outputs": []
    },
    {
      "cell_type": "code",
      "source": [
        "time_series_analysis(cleaned_impressions_reach,\n",
        "                     num_cols[1:3],\n",
        "                     duration='7D', fill=True,length=16,width=5)"
      ],
      "metadata": {
        "id": "szEQQzEyKJnK"
      },
      "execution_count": null,
      "outputs": []
    },
    {
      "cell_type": "code",
      "source": [
        "time_series_analysis(cleaned_impressions_reach,\n",
        "                     num_cols[6:],\n",
        "                     duration='Y', fill=False,length=8,width=5)"
      ],
      "metadata": {
        "id": "WmwvsaJEKMjv"
      },
      "execution_count": null,
      "outputs": []
    },
    {
      "cell_type": "code",
      "source": [
        "time_series_analysis(cleaned_impressions_reach,\n",
        "                     num_cols[6:],\n",
        "                     duration='M', fill=True,length=16,width=5)"
      ],
      "metadata": {
        "id": "0rSVat0NLKbI"
      },
      "execution_count": null,
      "outputs": []
    },
    {
      "cell_type": "code",
      "source": [
        "time_series_analysis(cleaned_impressions_reach,\n",
        "                     num_cols[6:],\n",
        "                     duration='7D', fill=True,length=16,width=5)"
      ],
      "metadata": {
        "id": "BViD_XSPLRu7"
      },
      "execution_count": null,
      "outputs": []
    },
    {
      "cell_type": "markdown",
      "source": [
        "### Posts"
      ],
      "metadata": {
        "id": "Pzoh7QivMC-n"
      }
    },
    {
      "cell_type": "code",
      "source": [
        "data = cleaned_impressions_reach.copy()\n",
        "data[['Post']].head(5)"
      ],
      "metadata": {
        "id": "ImyXiJf9LTYZ"
      },
      "execution_count": null,
      "outputs": []
    },
    {
      "cell_type": "markdown",
      "source": [
        "#### Preprocessing"
      ],
      "metadata": {
        "id": "msWYxEzoMZsj"
      }
    },
    {
      "cell_type": "code",
      "source": [
        "remove_url=lambda x:re.sub(r'http\\S+','',str(x))\n",
        "to_lower=lambda x: x.lower()\n",
        "remove_puncs= lambda x:x.translate(str.maketrans('','',string.punctuation))\n",
        "\n",
        "more_words=[\"i\", \"me\", \"my\", \"myself\", \"we\", \"our\", \"ours\", \"ourselves\", \"you\", \"your\", \"yours\", \"yourself\", \"yourselves\", \"he\", \"him\",\n",
        "            \"his\", \"himself\", \"she\", \"her\", \"hers\", \"herself\", \"it\", \"its\", \"itself\", \"they\", \"them\", \"their\", \"theirs\", \"themselves\",\n",
        "            \"what\", \"which\", \"who\", \"whom\", \"this\", \"that\", \"these\", \"those\", \"am\", \"is\", \"are\", \"was\", \"were\", \"be\", \"been\", \"being\",\n",
        "            \"have\", \"has\", \"had\", \"having\", \"do\", \"does\", \"did\", \"doing\", \"a\", \"an\", \"the\", \"and\", \"but\", \"if\", \"or\", \"because\", \"as\",\n",
        "            \"until\", \"while\", \"of\", \"at\", \"by\", \"for\", \"with\", \"about\", \"against\", \"between\", \"into\", \"through\", \"during\", \"before\",\n",
        "            \"after\", \"above\", \"below\", \"to\", \"from\", \"up\", \"down\", \"in\", \"out\", \"on\", \"off\", \"over\", \"under\", \"again\", \"further\", \"then\",\n",
        "            \"once\", \"here\", \"there\", \"when\", \"where\", \"why\", \"how\", \"all\", \"any\", \"both\", \"each\", \"few\", \"more\", \"most\", \"other\", \"some\",\n",
        "            \"such\", \"no\", \"nor\", \"not\", \"only\", \"own\", \"same\", \"so\", \"than\", \"too\", \"very\", \"s\", \"t\", \"can\", \"will\", \"just\", \"don\",\n",
        "            \"should\", \"now\"]\n",
        "\n",
        "stop_words=set(stopwords.words('english')) #nltk package\n",
        "stop_words.update(more_words)\n",
        "\n",
        "remove_words=lambda x: ' '.join([word for word in x.split() if word not in stop_words]) #.join is from package string\n",
        "\n",
        "def preprocess_text(texts):\n",
        "  texts = texts.apply(remove_url)\n",
        "  texts = texts.apply(to_lower)\n",
        "  texts = texts.apply(remove_puncs)\n",
        "  texts = texts.apply(remove_words)\n",
        "  return texts\n",
        "\n",
        "def clean_text(text):\n",
        "    '''remove text in square brackets,remove links,remove punctuation\n",
        "    and remove words containing numbers.'''\n",
        "    text = re.sub('\\[.*?\\]', '', text)\n",
        "    text = re.sub('https?://\\S+|www\\.\\S+', '', text)\n",
        "    text = re.sub('<.*?>+', '', text)\n",
        "    text = re.sub('[%s]' % re.escape(string.punctuation), '', text)\n",
        "    text = re.sub('\\n', '', text)\n",
        "    text = re.sub('\\w*\\d\\w*', '', text)\n",
        "    return text\n",
        "\n",
        "# function to remove emoticons, symbols or flags by their codes\n",
        "def remove_emoji(text):\n",
        "    emoji_pattern = re.compile(\"[\"\n",
        "                           u\"\\U0001F600-\\U0001F64F\"  # emoticons\n",
        "                           u\"\\U0001F300-\\U0001F5FF\"  # symbols & pictographs\n",
        "                           u\"\\U0001F680-\\U0001F6FF\"  # transport & map symbols\n",
        "                           u\"\\U0001F1E0-\\U0001F1FF\"  # flags (iOS)\n",
        "                           u\"\\U00002702-\\U000027B0\"\n",
        "                           u\"\\U000024C2-\\U0001F251\"\n",
        "                           \"]+\", flags=re.UNICODE)\n",
        "    return emoji_pattern.sub(r'', text)\n"
      ],
      "metadata": {
        "id": "cr4IvMHPMYvV"
      },
      "execution_count": null,
      "outputs": []
    },
    {
      "cell_type": "code",
      "source": [
        "cleaned_posts = preprocess_text(data['Post'])\n",
        "cleaned_posts = cleaned_posts.apply(lambda x: clean_text(x))\n",
        "cleaned_posts = cleaned_posts.apply(lambda x: remove_emoji(x))"
      ],
      "metadata": {
        "id": "c3Gdq4KVMUiQ"
      },
      "execution_count": null,
      "outputs": []
    },
    {
      "cell_type": "code",
      "source": [
        "filtered_data = data.copy()\n",
        "filtered_data['Post'] = cleaned_posts"
      ],
      "metadata": {
        "id": "sh_09nFSMhh0"
      },
      "execution_count": null,
      "outputs": []
    },
    {
      "cell_type": "code",
      "source": [
        "words_list=[word for line in cleaned_posts for word in line.split()]\n",
        "\n",
        "# creating dataframe and bar graph of most common 50 words with their frequency\n",
        "word_counts=Counter(words_list).most_common(50)\n",
        "word_df=pd.DataFrame(word_counts)\n",
        "word_df.columns=['word','frq']\n",
        "display(word_df.head(5))\n",
        "\n",
        "fig = plt.figure(figsize = (15, 7))\n",
        "\n",
        "# creating the bar plot\n",
        "plt.bar(word_df['word'],word_df['frq'])\n",
        "plt.xticks(rotation=90)\n",
        "plt.xlabel('word')\n",
        "plt.ylabel('frq')\n",
        "plt.title('Most common words')\n",
        "plt.show()"
      ],
      "metadata": {
        "id": "JyQLEHBWMkVJ"
      },
      "execution_count": null,
      "outputs": []
    },
    {
      "cell_type": "markdown",
      "source": [
        "We can see the Top 50 words with the most frequency in our dataset, words such as itcanbe which is a hashtag, get, stanbic, ibtc, us, visit, email, call, click and so on"
      ],
      "metadata": {
        "id": "r2b-nafJMxsJ"
      }
    },
    {
      "cell_type": "code",
      "source": [
        "from wordcloud import WordCloud"
      ],
      "metadata": {
        "id": "v1we2MeHMmfT"
      },
      "execution_count": null,
      "outputs": []
    },
    {
      "cell_type": "code",
      "source": [
        "cut_text = \" \".join(filtered_data['Post'])\n",
        "max_words=100\n",
        "word_cloud = WordCloud(\n",
        "                    background_color='white',\n",
        "                    stopwords=set(stop_words),\n",
        "                    max_words=max_words,\n",
        "                    max_font_size=30,\n",
        "                    scale=5,\n",
        "                    colormap='magma',\n",
        "                    random_state=1).generate(cut_text)\n",
        "fig = plt.figure(1, figsize=(10,10))\n",
        "plt.axis('off')\n",
        "plt.title('Word Cloud for Top '+str(max_words)+' words from Twitter Posts\\n', fontsize=10,color='blue')\n",
        "fig.subplots_adjust(top=2.3)\n",
        "plt.imshow(word_cloud)\n",
        "plt.show()"
      ],
      "metadata": {
        "id": "NQnF11LpM13D"
      },
      "execution_count": null,
      "outputs": []
    },
    {
      "cell_type": "markdown",
      "source": [
        "Annotations/Sentiment AnalysiS"
      ],
      "metadata": {
        "id": "zjeF47XBN_F6"
      }
    },
    {
      "cell_type": "code",
      "source": [
        "sid=SentimentIntensityAnalyzer()\n",
        "ps=lambda x:sid.polarity_scores(x)\n",
        "sentiment_scores=filtered_data['Post'].apply(ps)"
      ],
      "metadata": {
        "id": "kigjchC7N7WJ"
      },
      "execution_count": null,
      "outputs": []
    },
    {
      "cell_type": "code",
      "source": [
        "# create the data frame of negative, neutral, positive and compound polarity scores\n",
        "sentiment_df=pd.DataFrame(data=list(sentiment_scores))\n",
        "labelize=lambda x:'neutral' if x==0 else('positive' if x>0 else 'negative')\n",
        "sentiment_df['sentiment_label']=sentiment_df.compound.apply(labelize)\n",
        "\n",
        "filtered_data = filtered_data.join(sentiment_df['sentiment_label'])"
      ],
      "metadata": {
        "id": "XEb8jNzNN747"
      },
      "execution_count": null,
      "outputs": []
    },
    {
      "cell_type": "code",
      "source": [
        "filtered_data['sentiment_label'].value_counts().plot(kind='barh',title=\"Bar Plot of Posts Sentiments\");"
      ],
      "metadata": {
        "id": "WDXVMZRdN8Gl"
      },
      "execution_count": null,
      "outputs": []
    },
    {
      "cell_type": "code",
      "source": [
        "from sklearn.feature_extraction.text import CountVectorizer\n",
        "from textblob import TextBlob\n",
        "import scipy.stats as stats\n",
        "\n",
        "from sklearn.decomposition import TruncatedSVD\n",
        "from sklearn.decomposition import LatentDirichletAllocation\n",
        "from sklearn.manifold import TSNE\n",
        "\n",
        "# spaCy based imports\n",
        "import spacy\n",
        "from spacy.lang.en.stop_words import STOP_WORDS\n",
        "from spacy.lang.en import English\n",
        "!python -m spacy download en_core_web_lg"
      ],
      "metadata": {
        "id": "h2NEILvAN8Sm"
      },
      "execution_count": null,
      "outputs": []
    },
    {
      "cell_type": "code",
      "source": [
        "def topic_modelling(text, n=10):\n",
        "\n",
        "  cvectorizer = CountVectorizer(max_df=0.95, min_df=2,stop_words='english',decode_error='ignore')\n",
        "  lda_model = LatentDirichletAllocation(n_components=8,learning_method='online',max_iter=20,random_state=42)\n",
        "  cvz = cvectorizer.fit_transform(text)\n",
        "  X_topics = lda_model.fit_transform(cvz)\n",
        "  n_top_words = n\n",
        "  topic_summaries = []\n",
        "\n",
        "  topic_word = lda_model.components_  # get the topic words\n",
        "  vocab = cvectorizer.get_feature_names_out()\n",
        "\n",
        "  for i, topic_dist in enumerate(topic_word):\n",
        "    topic_words = np.array(vocab)[np.argsort(topic_dist)][:-(n_top_words+1):-1]\n",
        "    topic_summaries.append(' '.join(topic_words))\n",
        "    print('Topic {}: {}'.format(i, ' | '.join(topic_words)))\n",
        "\n",
        "  return cvectorizer, lda_model, topic_summaries"
      ],
      "metadata": {
        "id": "QQZrfr92OexM"
      },
      "execution_count": null,
      "outputs": []
    },
    {
      "cell_type": "code",
      "source": [
        "## Get LDA Topics\n",
        "\n",
        "vectorizer, lda_model, topic_summaries = topic_modelling(filtered_data['Post'], n=15)"
      ],
      "metadata": {
        "id": "p8canpk5OfX-"
      },
      "execution_count": null,
      "outputs": []
    },
    {
      "cell_type": "markdown",
      "source": [
        "\n",
        "\n",
        "- Topic 0: **Promotions and Contests**: This topic seems to be about various offers and incentives that the bank provides to its customers, such as winning prizes, watching sessions, and using easewallet.\n",
        "- Topic 1: **Nigeria and Africa**: This topic seems to be about the bank's presence and impact in Nigeria and Africa, as well as its involvement in the local economy, industry, and society.\n",
        "- Topic 2: **Email and Investment**: This topic seems to be about the bank's email communication and investment services, such as sending details, visiting websites, and providing education and insurance.\n",
        "- Topic 3: **App and Mobile Banking**: This topic seems to be about the bank's app and mobile banking features, such as downloading, moving forward, and opening accounts.\n",
        "- Topic 4: **Live Events and Online Discussions**: This topic seems to be about the bank's participation and hosting of live events and online discussions, such as smwlagos, motivationmonday, and business series.\n",
        "- Topic 5: **Pension and Savings**: This topic seems to be about the bank's pension and savings products, such as helping customers make their dreams come true, dialing for airtime, and visiting for more information.\n",
        "- Topic 6: **Card and Women Empowerment**: This topic seems to be about the bank's card services and women empowerment initiatives, such as paying with cards, emailing for details, and supporting women's development.\n",
        "- Topic 7: **Registration and Social Media**: This topic seems to be about the bank's registration process and social media presence, such as registering for events, saving for needs, and sharing top reads."
      ],
      "metadata": {
        "id": "YvpJrCWMOtqX"
      }
    },
    {
      "cell_type": "code",
      "source": [
        "topic_labels = ['Promotions and Contests','Nigeria and Africa','Email and Investment','App and Mobile Banking',\n",
        "                'Live Events and Online Discussions','Pension and Savings','Card and Women Empowerment','Registration and Social Media']\n",
        "\n",
        "def assign_topic_to_text(text, cvectorizer, lda_model, topic_labels):\n",
        "    transformed_text = cvectorizer.transform([text])\n",
        "    topic_distribution = lda_model.transform(transformed_text)\n",
        "    best_topic = np.argmax(topic_distribution[0])\n",
        "\n",
        "    return topic_labels[best_topic]\n",
        "\n",
        "filtered_data['topic_label'] = filtered_data['Post'].apply(\n",
        "    lambda x: assign_topic_to_text(x, vectorizer, lda_model, topic_labels))"
      ],
      "metadata": {
        "id": "7RF7-sPmOfnH"
      },
      "execution_count": null,
      "outputs": []
    },
    {
      "cell_type": "code",
      "source": [
        "nlp = spacy.load('en_core_web_lg')"
      ],
      "metadata": {
        "id": "bPDiNRFJOfxn"
      },
      "execution_count": null,
      "outputs": []
    },
    {
      "cell_type": "code",
      "source": [
        "def named_entity_recognition(text):\n",
        "  doc = nlp(text)\n",
        "  label = [(X.label_) for X in doc.ents]\n",
        "  return label\n",
        "\n",
        "def part_of_speech_tagging(text):\n",
        "  doc = nlp(text)\n",
        "  label = [(X.pos_) for X in doc]\n",
        "  return label\n",
        "\n",
        "filtered_data['ner_label'] = filtered_data['Post'].apply(lambda x:named_entity_recognition(x))\n",
        "filtered_data['pos_label'] = filtered_data['Post'].apply(lambda x:part_of_speech_tagging(x))"
      ],
      "metadata": {
        "id": "qHkjAcndOgB9"
      },
      "execution_count": null,
      "outputs": []
    },
    {
      "cell_type": "code",
      "source": [
        "filtered_data['ner_count'] = filtered_data['ner_label'].apply(lambda x:len(x))\n",
        "filtered_data['pos_count'] = filtered_data['pos_label'].apply(lambda x:len(x))"
      ],
      "metadata": {
        "id": "b5Ni_GO9OgOW"
      },
      "execution_count": null,
      "outputs": []
    },
    {
      "cell_type": "code",
      "source": [
        "ner_tags = ['CARDINAL','DATE','GPE','LOC','MONEY','ORDINAL','ORG','PERSON','TIME']\n",
        "for tag in ner_tags:\n",
        "  filtered_data[tag + '_count'] = filtered_data['ner_label'].apply(lambda x: x.count(tag))"
      ],
      "metadata": {
        "id": "muwBbCs4OgZ2"
      },
      "execution_count": null,
      "outputs": []
    },
    {
      "cell_type": "code",
      "source": [
        "pos_tags = ['VERB', 'ADV', 'ADJ', 'NUM', 'NOUN', 'SPACE', 'PROPN']\n",
        "for tag in pos_tags:\n",
        "    filtered_data[tag + '_count'] = filtered_data['pos_label'].apply(lambda x: x.count(tag))"
      ],
      "metadata": {
        "id": "i5w4t63QOgjC"
      },
      "execution_count": null,
      "outputs": []
    },
    {
      "cell_type": "markdown",
      "source": [
        "### Let's Delve in for Deeper Analysis"
      ],
      "metadata": {
        "id": "5Hf3zAaBRip8"
      }
    },
    {
      "cell_type": "markdown",
      "source": [
        "Let's see the distribution of words for each year"
      ],
      "metadata": {
        "id": "B8ut9OEfRi_Z"
      }
    },
    {
      "cell_type": "code",
      "source": [
        "def get_top_n_words(cleaned_posts, ax, n:int=20):\n",
        "    words_list=[word for line in cleaned_posts for word in line.split()]\n",
        "    word_counts=Counter(words_list).most_common(n)\n",
        "    word_df=pd.DataFrame(word_counts)\n",
        "    word_df.columns=['word','frq']\n",
        "\n",
        "    ax.bar(word_df['word'],word_df['frq'])\n",
        "    ax.set_xticklabels(word_df['word'], rotation=90)\n",
        "    ax.set_xlabel('word')\n",
        "    ax.set_ylabel('frq')\n",
        "\n",
        "def word_cloud(texts, ax, n:int=100):\n",
        "    cut_text = \" \".join(texts)\n",
        "    max_words=n\n",
        "    word_cloud = WordCloud(\n",
        "                      background_color='white',\n",
        "                      stopwords=set(stop_words),\n",
        "                      max_words=max_words,\n",
        "                      max_font_size=30,\n",
        "                      scale=1,\n",
        "                      colormap='magma',\n",
        "                      random_state=42).generate(cut_text)\n",
        "    ax.axis('off')\n",
        "    ax.imshow(word_cloud)\n",
        "\n",
        "def sentiment_analyzer(text, ax):\n",
        "    sid=SentimentIntensityAnalyzer()\n",
        "    ps=lambda x:sid.polarity_scores(x)\n",
        "    sentiment_scores=text.apply(ps)\n",
        "\n",
        "    sentiment_df=pd.DataFrame(data=list(sentiment_scores))\n",
        "    labelize=lambda x:'neutral' if x==0 else('positive' if x>0 else 'negative')\n",
        "    sentiment_df['label']=sentiment_df.compound.apply(labelize)\n",
        "\n",
        "    sentiment_df['label'].value_counts().plot(kind='barh', ax=ax);"
      ],
      "metadata": {
        "id": "eMVRD6hdOgu1"
      },
      "execution_count": null,
      "outputs": []
    },
    {
      "cell_type": "code",
      "source": [
        "def visualize_data(df, column, column_value):\n",
        "    df_year = df[df[column] == column_value]\n",
        "\n",
        "    fig, axs = plt.subplots(2, 2, figsize=(15, 10))\n",
        "\n",
        "    get_top_n_words(df_year['Post'].values, axs[0, 0], n=10)\n",
        "    axs[0, 0].set_title(f\"Top 10 Words in the Top 1% Impression {column_value}\")\n",
        "\n",
        "    word_cloud(df_year['Post'].values, axs[0, 1], n=50)\n",
        "    axs[0, 1].set_title(f\"Word Cloud for Top 50 words in the Top 1% Impression {column_value} period\")\n",
        "\n",
        "    labels = sentiment_analyzer(df_year['Post'], axs[1, 1])\n",
        "    axs[1, 1].set_title(f\"Sentiment Analyzer of Tweets in the Top 1% Impression {column_value} period\")\n",
        "\n",
        "    plt.tight_layout()\n",
        "    plt.show()\n",
        "\n",
        "\n",
        "def plot_pos_labels(df, column, pos_tags, rows=2, cols=3, plot=False):\n",
        "\n",
        "    pos_cols = [f\"{pos}_count\" for pos in pos_tags]\n",
        "\n",
        "    if plot == False:\n",
        "\n",
        "      display(df.groupby(column)[pos_cols+['pos_count']].sum().sort_values(by=['pos_count'],ascending=False))\n",
        "\n",
        "    else:\n",
        "      df_grouped = df.groupby(column)[pos_cols].sum()\n",
        "\n",
        "      fig, axs = plt.subplots(rows, cols, figsize=(15, 10))\n",
        "      fig.patch.set_facecolor('black')\n",
        "\n",
        "      axs = axs.flatten()\n",
        "\n",
        "      for ax, (year, row) in zip(axs, df_grouped.iterrows()):\n",
        "          ax.pie(row, labels=row.index, autopct='%1.1f%%', colors=['#ff9999','#66b3ff','#99ff99','#ffcc99'], textprops={'color':'#ffffff'})\n",
        "          ax.set_title(f'POS Tag Distribution in {year}', color='white')\n",
        "\n",
        "      plt.tight_layout()\n",
        "      plt.show()\n",
        "\n",
        "def plot_ner_labels(df, column, ner_tags, rows=2, cols=3, plot=False):\n",
        "\n",
        "    ner_cols = [f\"{ner}_count\" for ner in ner_tags]\n",
        "\n",
        "    if plot == False:\n",
        "\n",
        "      display(df.groupby(column)[ner_cols+['ner_count']].sum().sort_values(by=['ner_count'],ascending=False))\n",
        "\n",
        "    else:\n",
        "      df_grouped = df.groupby(column)[ner_cols].sum()\n",
        "\n",
        "      fig, axs = plt.subplots(rows, cols, figsize=(15, 10))\n",
        "      fig.patch.set_facecolor('black')\n",
        "\n",
        "      axs = axs.flatten()\n",
        "\n",
        "      for ax, (year, row) in zip(axs, df_grouped.iterrows()):\n",
        "          ax.pie(row, labels=row.index, autopct='%1.1f%%', colors=['#ff9999','#66b3ff','#99ff99','#ffcc99'], textprops={'color':'#ffffff'})\n",
        "          ax.set_title(f'NER Tag Distribution in {year}', color='white')\n",
        "\n",
        "      plt.tight_layout()\n",
        "      plt.show()"
      ],
      "metadata": {
        "id": "6fEBsrCDOg4T"
      },
      "execution_count": null,
      "outputs": []
    },
    {
      "cell_type": "code",
      "source": [
        "def visualize_labels(df, column, column_values, colors, rows=1, cols=3, length=15, width=10):\n",
        "\n",
        "  fig, axs = plt.subplots(rows, cols, figsize=(length, width))\n",
        "  axs = axs.ravel()\n",
        "\n",
        "  for i, value in enumerate(column_values):\n",
        "\n",
        "    df[df[column]==value]['topic_label'].value_counts().plot(kind='barh', color=colors[i], ax=axs[i])\n",
        "    axs[i].set_title(f'{value} Topic Labels')\n",
        "\n",
        "  plt.tight_layout()\n",
        "  plt.show()\n"
      ],
      "metadata": {
        "id": "TBBFREz1RvDN"
      },
      "execution_count": null,
      "outputs": []
    },
    {
      "cell_type": "code",
      "source": [
        "def barplot_labels(data, plotted_cols, colors, rows=2, cols=4, length=25, width=20):\n",
        "\n",
        "  fig, axs = plt.subplots(nrows=rows, ncols=cols, figsize=(length, width))\n",
        "  axs = axs.ravel()\n",
        "\n",
        "  for i, column in enumerate(plotted_cols):\n",
        "    df_yearly = data.groupby(['topic_label'])[column].mean()\n",
        "    df_yearly = df_yearly.sort_values(ascending=True)\n",
        "    axs[i].barh(df_yearly.index, df_yearly.values, color=colors[i])  # Use color corresponding to column\n",
        "\n",
        "    axs[i].set_xlabel(column)\n",
        "    axs[i].set_ylabel('Topic Label')\n",
        "    axs[i].set_title(f'Distribution of Twitter {column} across Topic Labels', fontsize=10)\n",
        "\n",
        "  plt.tight_layout()\n",
        "  plt.show()"
      ],
      "metadata": {
        "id": "48882LHwRxeJ"
      },
      "execution_count": null,
      "outputs": []
    },
    {
      "cell_type": "code",
      "source": [
        "def stack_barchart(data, plot_col, length=15, width=10):\n",
        "\n",
        "  df = data.groupby([plot_col, 'topic_label'])[['topic_label']].count().rename(columns={'topic_label':'topic_count'})\n",
        "  df = df.reset_index()\n",
        "\n",
        "  pivot_df = df.pivot(index='topic_label', columns=plot_col, values='topic_count').fillna(0)\n",
        "\n",
        "  # Plotting\n",
        "  plt.figure(figsize=(10,7))\n",
        "  pivot_df.plot(kind='bar', stacked=True, figsize=(10,7))\n",
        "\n",
        "  plt.xlabel('Topic Label')\n",
        "  plt.ylabel('Frequency')\n",
        "  plt.title(f'Distribution of Topic Labels Across Each {plot_col}')\n",
        "  plt.legend(title=plot_col)\n",
        "\n",
        "  plt.show()\n"
      ],
      "metadata": {
        "id": "Zh2uL-ZZRzwr"
      },
      "execution_count": null,
      "outputs": []
    },
    {
      "cell_type": "code",
      "source": [
        "colors = ['skyblue', 'olive', 'gold', 'purple', 'red', 'green', 'orange', 'brown']"
      ],
      "metadata": {
        "id": "fMzqf_WDR1d1"
      },
      "execution_count": null,
      "outputs": []
    },
    {
      "cell_type": "markdown",
      "source": [
        "#### Distribution of Whole Dataset"
      ],
      "metadata": {
        "id": "Ga8_peT4R6GO"
      }
    },
    {
      "cell_type": "code",
      "source": [
        "filtered_data['topic_label'].value_counts().plot(kind='bar',title=\"Distribution of Topic Models\");"
      ],
      "metadata": {
        "id": "uMaf6Sz2R3ul"
      },
      "execution_count": null,
      "outputs": []
    },
    {
      "cell_type": "code",
      "source": [
        "pos_cols = [f\"{pos}_count\" for pos in pos_tags]\n",
        "ner_cols = [f\"{ner}_count\" for ner in ner_tags]\n",
        "\n",
        "filtered_data.groupby(['topic_label'])[pos_cols+['pos_count']].mean().sort_values(by=['pos_count'],ascending=False)"
      ],
      "metadata": {
        "id": "p8HgdfEdR-zO"
      },
      "execution_count": null,
      "outputs": []
    },
    {
      "cell_type": "code",
      "source": [
        "filtered_data.groupby(['topic_label'])[ner_cols+['ner_count']].mean().sort_values(by=['ner_count'],ascending=False)"
      ],
      "metadata": {
        "id": "hllL3NA2SAzT"
      },
      "execution_count": null,
      "outputs": []
    },
    {
      "cell_type": "code",
      "source": [
        "barplot_labels(filtered_data, impression_reach_cols, colors,rows=1,cols=3,length=15,width=10)"
      ],
      "metadata": {
        "id": "VVHPRgxoSCsN"
      },
      "execution_count": null,
      "outputs": []
    },
    {
      "cell_type": "code",
      "source": [
        "barplot_labels(filtered_data, engage_rls_cols, colors,rows=2,cols=2,length=15,width=10)"
      ],
      "metadata": {
        "id": "6xx0Upw5cGUM"
      },
      "execution_count": null,
      "outputs": []
    },
    {
      "cell_type": "code",
      "source": [
        "barplot_labels(filtered_data, click_cols, colors,rows=2,cols=2,length=15,width=10)"
      ],
      "metadata": {
        "id": "07-rdCKvlr_p"
      },
      "execution_count": null,
      "outputs": []
    },
    {
      "cell_type": "code",
      "source": [
        "nm_cols = num_cols[:3]+num_cols[-2:]\n",
        "barplot_labels(filtered_data, nm_cols, colors,rows=3,cols=2,length=20,width=15)"
      ],
      "metadata": {
        "id": "M_NsjDJpYEIC"
      },
      "execution_count": null,
      "outputs": []
    },
    {
      "cell_type": "code",
      "source": [
        "stack_barchart(filtered_data, \"year\")"
      ],
      "metadata": {
        "id": "UmmS5I_sx1-M"
      },
      "execution_count": null,
      "outputs": []
    },
    {
      "cell_type": "code",
      "source": [
        "stack_barchart(filtered_data, \"time_period\")"
      ],
      "metadata": {
        "id": "tE8fz1p-44eK"
      },
      "execution_count": null,
      "outputs": []
    },
    {
      "cell_type": "code",
      "source": [
        "stack_barchart(filtered_data, \"day_name\")"
      ],
      "metadata": {
        "id": "c3kO9AWF6EPK"
      },
      "execution_count": null,
      "outputs": []
    },
    {
      "cell_type": "code",
      "source": [
        "stack_barchart(filtered_data, \"day_period\")"
      ],
      "metadata": {
        "id": "b0Y9d_vu5bJy"
      },
      "execution_count": null,
      "outputs": []
    },
    {
      "cell_type": "code",
      "source": [
        "stack_barchart(filtered_data, \"quarter\")"
      ],
      "metadata": {
        "id": "JRxDtG056VJN"
      },
      "execution_count": null,
      "outputs": []
    },
    {
      "cell_type": "code",
      "source": [
        "wrt = filtered_data[filtered_data['holiday_types']!='Regular Type']\n",
        "stack_barchart(wrt, \"holiday_types\")"
      ],
      "metadata": {
        "id": "GSX-LBqJ6W2k"
      },
      "execution_count": null,
      "outputs": []
    },
    {
      "cell_type": "markdown",
      "source": [
        "Top 1% Impressions"
      ],
      "metadata": {
        "id": "huutgmDH6-1b"
      }
    },
    {
      "cell_type": "code",
      "source": [
        "last_quantile = filtered_data['Impressions'].quantile(0.99) #Posts that had Impression in the Top 1%\n",
        "df = filtered_data[cleaned_impressions_reach['Impressions'] > last_quantile]\n",
        "\n",
        "visualize_data(df, \"year\", 2017)"
      ],
      "metadata": {
        "id": "5yA19ADK6YdQ"
      },
      "execution_count": null,
      "outputs": []
    },
    {
      "cell_type": "code",
      "source": [
        "visualize_data(df, \"year\", 2016)"
      ],
      "metadata": {
        "id": "FJP_DBZh7EAh"
      },
      "execution_count": null,
      "outputs": []
    },
    {
      "cell_type": "code",
      "source": [
        "visualize_data(df, \"year\", 2022)"
      ],
      "metadata": {
        "id": "NmUWldG87eQ0"
      },
      "execution_count": null,
      "outputs": []
    },
    {
      "cell_type": "code",
      "source": [
        "visualize_labels(df, \"year\", [2017, 2016, 2022], colors, rows=2, cols=2, length=15, width=10)"
      ],
      "metadata": {
        "id": "QNn8vhO67gfQ"
      },
      "execution_count": null,
      "outputs": []
    },
    {
      "cell_type": "code",
      "source": [
        "plot_pos_labels(df, \"year\",  pos_tags, plot=True)"
      ],
      "metadata": {
        "id": "onVbVSQS73Uy"
      },
      "execution_count": null,
      "outputs": []
    },
    {
      "cell_type": "code",
      "source": [
        "plot_ner_labels(df, \"year\",  ner_tags, plot=False)"
      ],
      "metadata": {
        "id": "xbx18GcW8rLQ"
      },
      "execution_count": null,
      "outputs": []
    },
    {
      "cell_type": "code",
      "source": [
        "visualize_data(df, \"time_period\", \"Morning\")"
      ],
      "metadata": {
        "id": "Xr0HCoG68tbx"
      },
      "execution_count": null,
      "outputs": []
    },
    {
      "cell_type": "code",
      "source": [
        "visualize_data(df, \"time_period\", \"Afternoon\")"
      ],
      "metadata": {
        "id": "KyFlTtfB-mhQ"
      },
      "execution_count": null,
      "outputs": []
    },
    {
      "cell_type": "code",
      "source": [
        "visualize_data(df, \"time_period\", \"Evening\")"
      ],
      "metadata": {
        "id": "3Qp8V8LD-oLj"
      },
      "execution_count": null,
      "outputs": []
    },
    {
      "cell_type": "code",
      "source": [
        "visualize_labels(df, \"time_period\", [\"Morning\", \"Afternoon\", \"Evening\"], colors, length=15, width=10)"
      ],
      "metadata": {
        "id": "kkldacMs-qM9"
      },
      "execution_count": null,
      "outputs": []
    },
    {
      "cell_type": "code",
      "source": [
        "plot_pos_labels(df, \"time_period\", pos_tags, rows=2, cols=2, plot=True)"
      ],
      "metadata": {
        "id": "nmKkwtmV-yoz"
      },
      "execution_count": null,
      "outputs": []
    },
    {
      "cell_type": "code",
      "source": [
        "plot_ner_labels(df, \"time_period\", ner_tags, plot=False)"
      ],
      "metadata": {
        "id": "tEfYeoQB-3U9"
      },
      "execution_count": null,
      "outputs": []
    },
    {
      "cell_type": "code",
      "source": [
        "visualize_data(df, \"day_name\", \"Wednesday\")"
      ],
      "metadata": {
        "id": "4AO9_UdP_zOP"
      },
      "execution_count": null,
      "outputs": []
    },
    {
      "cell_type": "code",
      "source": [
        "visualize_data(df, \"day_name\", \"Thursday\")"
      ],
      "metadata": {
        "id": "drAt1IakAgU7"
      },
      "execution_count": null,
      "outputs": []
    },
    {
      "cell_type": "code",
      "source": [
        "visualize_data(df, \"day_name\", \"Tuesday\")"
      ],
      "metadata": {
        "id": "xY08UuwVAkH2"
      },
      "execution_count": null,
      "outputs": []
    },
    {
      "cell_type": "code",
      "source": [
        "visualize_labels(df, \"day_name\", [\"Wednesday\",\"Thursday\", \"Tuesday\", \"Monday\"], colors, rows=2, cols=2, length=25, width=20)"
      ],
      "metadata": {
        "id": "3L8FsU3KAnCp"
      },
      "execution_count": null,
      "outputs": []
    },
    {
      "cell_type": "code",
      "source": [
        "plot_pos_labels(df, \"day_name\", pos_tags, rows=2, cols=3, plot=True)"
      ],
      "metadata": {
        "id": "w5faOx5YA9Aq"
      },
      "execution_count": null,
      "outputs": []
    },
    {
      "cell_type": "code",
      "source": [
        "plot_ner_labels(df, \"day_name\", ner_tags, plot=False)"
      ],
      "metadata": {
        "id": "ZALnJGjoBVri"
      },
      "execution_count": null,
      "outputs": []
    },
    {
      "cell_type": "markdown",
      "source": [
        "#### Top 1% Engagements"
      ],
      "metadata": {
        "id": "XfnoUgVRCOr1"
      }
    },
    {
      "cell_type": "code",
      "source": [
        "last_quantile = filtered_data['Engagements'].quantile(0.99) #Posts that had Impression in the Top 1%\n",
        "df = filtered_data[cleaned_impressions_reach['Engagements'] > last_quantile]\n",
        "\n",
        "visualize_data(df, \"year\", 2020)"
      ],
      "metadata": {
        "id": "r9oaMAsNBm5d"
      },
      "execution_count": null,
      "outputs": []
    },
    {
      "cell_type": "code",
      "source": [
        "visualize_data(df, \"year\", 2019)"
      ],
      "metadata": {
        "id": "HJVN5wUfClan"
      },
      "execution_count": null,
      "outputs": []
    },
    {
      "cell_type": "code",
      "source": [
        "visualize_data(df, \"year\", 2023)"
      ],
      "metadata": {
        "id": "bgvUzu_ZCli5"
      },
      "execution_count": null,
      "outputs": []
    },
    {
      "cell_type": "code",
      "source": [
        "visualize_labels(df, \"year\", [2020, 2019, 2023], colors, rows=1, cols=3, length=15, width=10)"
      ],
      "metadata": {
        "id": "4ezuyLLDCpue"
      },
      "execution_count": null,
      "outputs": []
    },
    {
      "cell_type": "code",
      "source": [],
      "metadata": {
        "id": "wA5C0PnEC_Lw"
      },
      "execution_count": null,
      "outputs": []
    }
  ]
}